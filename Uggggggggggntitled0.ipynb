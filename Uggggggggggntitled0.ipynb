{
  "nbformat": 4,
  "nbformat_minor": 0,
  "metadata": {
    "colab": {
      "provenance": []
    },
    "kernelspec": {
      "name": "python3",
      "display_name": "Python 3"
    },
    "language_info": {
      "name": "python"
    }
  },
  "cells": [
    {
      "cell_type": "markdown",
      "source": [
        "IMPORT STATEMENTS"
      ],
      "metadata": {
        "id": "AQaA4v7BK3lb"
      }
    },
    {
      "cell_type": "code",
      "execution_count": null,
      "metadata": {
        "id": "0nenMSa8K0CD"
      },
      "outputs": [],
      "source": [
        "import os #importing operating system packages\n",
        "# get the current directory\n",
        "os.getcwd() # cwd stands for current working directory\n",
        "os.chdir(\"/content/sample_data\")"
      ]
    },
    {
      "cell_type": "markdown",
      "source": [
        "VARIABLES & DATATYPES"
      ],
      "metadata": {
        "id": "oKjKdtZpPLjz"
      }
    },
    {
      "cell_type": "code",
      "source": [
        "a = 1\n",
        "b = 2\n",
        "a + b"
      ],
      "metadata": {
        "colab": {
          "base_uri": "https://localhost:8080/"
        },
        "id": "IYKGdBoVPUZy",
        "outputId": "eab44d09-f05b-4947-adf9-fa652fb4957a"
      },
      "execution_count": null,
      "outputs": [
        {
          "output_type": "execute_result",
          "data": {
            "text/plain": [
              "3"
            ]
          },
          "metadata": {},
          "execution_count": 41
        }
      ]
    },
    {
      "cell_type": "code",
      "source": [
        "x = [1,2,3]\n",
        "y = [4,5,6]\n",
        "z = [x,y]\n",
        "u = x+y\n",
        "print (z)\n",
        "print (u)"
      ],
      "metadata": {
        "colab": {
          "base_uri": "https://localhost:8080/"
        },
        "id": "ysfAlVV4VQgg",
        "outputId": "6a70c5e9-0980-40a4-c03f-3edcae8c03dc"
      },
      "execution_count": null,
      "outputs": [
        {
          "output_type": "stream",
          "name": "stdout",
          "text": [
            "[[1, 2, 3], [4, 5, 6]]\n",
            "[1, 2, 3, 4, 5, 6]\n"
          ]
        }
      ]
    },
    {
      "cell_type": "markdown",
      "source": [],
      "metadata": {
        "id": "IHky4WrxVQDr"
      }
    },
    {
      "cell_type": "code",
      "source": [
        "x[-1]"
      ],
      "metadata": {
        "colab": {
          "base_uri": "https://localhost:8080/"
        },
        "id": "nPWn-XlxYe65",
        "outputId": "fef2ef0e-f98f-4270-c0a2-afb4ee86b263"
      },
      "execution_count": null,
      "outputs": [
        {
          "output_type": "execute_result",
          "data": {
            "text/plain": [
              "3"
            ]
          },
          "metadata": {},
          "execution_count": 43
        }
      ]
    },
    {
      "cell_type": "code",
      "source": [
        "x[1:3]"
      ],
      "metadata": {
        "colab": {
          "base_uri": "https://localhost:8080/"
        },
        "id": "JOKBzRdHZmUP",
        "outputId": "1f40ea68-8e89-497e-dccb-0128799fb69a"
      },
      "execution_count": null,
      "outputs": [
        {
          "output_type": "execute_result",
          "data": {
            "text/plain": [
              "[2, 3]"
            ]
          },
          "metadata": {},
          "execution_count": 44
        }
      ]
    },
    {
      "cell_type": "code",
      "source": [
        "102 + 37\n"
      ],
      "metadata": {
        "colab": {
          "base_uri": "https://localhost:8080/"
        },
        "id": "I-6Z8GNzZkRi",
        "outputId": "f26c1aab-79ee-4f08-f0c2-a2917f20a4c9"
      },
      "execution_count": null,
      "outputs": [
        {
          "output_type": "execute_result",
          "data": {
            "text/plain": [
              "139"
            ]
          },
          "metadata": {},
          "execution_count": 45
        }
      ]
    },
    {
      "cell_type": "code",
      "source": [
        "102 - 37\n"
      ],
      "metadata": {
        "colab": {
          "base_uri": "https://localhost:8080/"
        },
        "id": "bZJQ-UPbadZo",
        "outputId": "de8fbe3f-c472-4446-f5fe-8892c3e8d253"
      },
      "execution_count": null,
      "outputs": [
        {
          "output_type": "execute_result",
          "data": {
            "text/plain": [
              "65"
            ]
          },
          "metadata": {},
          "execution_count": 46
        }
      ]
    },
    {
      "cell_type": "code",
      "source": [
        "4 * 6\n"
      ],
      "metadata": {
        "colab": {
          "base_uri": "https://localhost:8080/"
        },
        "id": "1BmfMgE_adQF",
        "outputId": "9e7b572e-c045-403b-f962-b6956edbc9c6"
      },
      "execution_count": null,
      "outputs": [
        {
          "output_type": "execute_result",
          "data": {
            "text/plain": [
              "24"
            ]
          },
          "metadata": {},
          "execution_count": 47
        }
      ]
    },
    {
      "cell_type": "code",
      "source": [
        "22 / 7\n"
      ],
      "metadata": {
        "colab": {
          "base_uri": "https://localhost:8080/"
        },
        "id": "AwvKT2ShadIV",
        "outputId": "de67e691-817b-462c-bb94-f913490187b4"
      },
      "execution_count": null,
      "outputs": [
        {
          "output_type": "execute_result",
          "data": {
            "text/plain": [
              "3.142857142857143"
            ]
          },
          "metadata": {},
          "execution_count": 48
        }
      ]
    },
    {
      "cell_type": "code",
      "source": [
        "22 // 7\n"
      ],
      "metadata": {
        "colab": {
          "base_uri": "https://localhost:8080/"
        },
        "id": "V83suoYsac_W",
        "outputId": "dc8261f7-9f96-4848-b100-e7ca013e01a4"
      },
      "execution_count": null,
      "outputs": [
        {
          "output_type": "execute_result",
          "data": {
            "text/plain": [
              "3"
            ]
          },
          "metadata": {},
          "execution_count": 49
        }
      ]
    },
    {
      "cell_type": "code",
      "source": [
        "3 ** 4\n"
      ],
      "metadata": {
        "colab": {
          "base_uri": "https://localhost:8080/"
        },
        "id": "ExPd0dtcacyO",
        "outputId": "14919a1a-93ac-4512-e4cb-fa146af748fa"
      },
      "execution_count": null,
      "outputs": [
        {
          "output_type": "execute_result",
          "data": {
            "text/plain": [
              "81"
            ]
          },
          "metadata": {},
          "execution_count": 50
        }
      ]
    },
    {
      "cell_type": "code",
      "source": [
        "22 % 7"
      ],
      "metadata": {
        "colab": {
          "base_uri": "https://localhost:8080/"
        },
        "id": "NFRbgWs9ab_F",
        "outputId": "a99dc847-62df-4810-c5fc-4611f4d1fe1c"
      },
      "execution_count": null,
      "outputs": [
        {
          "output_type": "execute_result",
          "data": {
            "text/plain": [
              "1"
            ]
          },
          "metadata": {},
          "execution_count": 51
        }
      ]
    },
    {
      "cell_type": "code",
      "source": [
        "#assignment operator\n",
        "a = 5\n",
        "print(a)\n",
        "# x[0] = 1, not possible ie. , directly do not change the item in the list\n",
        "x = [10,23,45]\n",
        "x[0] = 1\n",
        "print (x)"
      ],
      "metadata": {
        "colab": {
          "base_uri": "https://localhost:8080/"
        },
        "id": "nN6taLJXdJLb",
        "outputId": "4c433871-7ce1-4965-dca2-91eb8ac17fcc"
      },
      "execution_count": null,
      "outputs": [
        {
          "output_type": "stream",
          "name": "stdout",
          "text": [
            "5\n",
            "[1, 23, 45]\n"
          ]
        }
      ]
    },
    {
      "cell_type": "code",
      "source": [
        "3 == 3\n"
      ],
      "metadata": {
        "colab": {
          "base_uri": "https://localhost:8080/"
        },
        "id": "dJd3nfF1fNRA",
        "outputId": "7b15bc9e-a461-41fc-e9b0-6f44d67e1098"
      },
      "execution_count": null,
      "outputs": [
        {
          "output_type": "execute_result",
          "data": {
            "text/plain": [
              "True"
            ]
          },
          "metadata": {},
          "execution_count": 53
        }
      ]
    },
    {
      "cell_type": "code",
      "source": [
        "3 != 3\n"
      ],
      "metadata": {
        "colab": {
          "base_uri": "https://localhost:8080/"
        },
        "id": "qSd5x6L_fe__",
        "outputId": "49fc807e-a429-470a-f01d-377d7b7972b1"
      },
      "execution_count": null,
      "outputs": [
        {
          "output_type": "execute_result",
          "data": {
            "text/plain": [
              "False"
            ]
          },
          "metadata": {},
          "execution_count": 54
        }
      ]
    },
    {
      "cell_type": "code",
      "source": [
        "3 > 3\n"
      ],
      "metadata": {
        "colab": {
          "base_uri": "https://localhost:8080/"
        },
        "id": "BE8uisDufe42",
        "outputId": "5688bdc0-22f5-4afe-dc34-a3a646842cd0"
      },
      "execution_count": null,
      "outputs": [
        {
          "output_type": "execute_result",
          "data": {
            "text/plain": [
              "False"
            ]
          },
          "metadata": {},
          "execution_count": 55
        }
      ]
    },
    {
      "cell_type": "code",
      "source": [
        "3 >= 3\n"
      ],
      "metadata": {
        "colab": {
          "base_uri": "https://localhost:8080/"
        },
        "id": "5SC8k3OWfexH",
        "outputId": "7e6256a7-0bc8-4243-bef6-f399cdfcf650"
      },
      "execution_count": null,
      "outputs": [
        {
          "output_type": "execute_result",
          "data": {
            "text/plain": [
              "True"
            ]
          },
          "metadata": {},
          "execution_count": 56
        }
      ]
    },
    {
      "cell_type": "code",
      "source": [
        "3 < 4\n"
      ],
      "metadata": {
        "colab": {
          "base_uri": "https://localhost:8080/"
        },
        "id": "cuM8yQGBfepc",
        "outputId": "a8faba1a-3d4b-4e06-a244-44607dc23ead"
      },
      "execution_count": null,
      "outputs": [
        {
          "output_type": "execute_result",
          "data": {
            "text/plain": [
              "True"
            ]
          },
          "metadata": {},
          "execution_count": 57
        }
      ]
    },
    {
      "cell_type": "code",
      "source": [
        "3 <= 4"
      ],
      "metadata": {
        "colab": {
          "base_uri": "https://localhost:8080/"
        },
        "id": "pgQiBp7GfehF",
        "outputId": "0bf67d84-aa3f-4175-8257-f2677bce1f71"
      },
      "execution_count": null,
      "outputs": [
        {
          "output_type": "execute_result",
          "data": {
            "text/plain": [
              "True"
            ]
          },
          "metadata": {},
          "execution_count": 58
        }
      ]
    },
    {
      "cell_type": "code",
      "source": [
        "(1 != 1) or (2 == 2)"
      ],
      "metadata": {
        "id": "uEgCggEUgTOV",
        "colab": {
          "base_uri": "https://localhost:8080/"
        },
        "outputId": "947ad55b-6e64-4aa4-e5eb-ca30bc1e5b77"
      },
      "execution_count": null,
      "outputs": [
        {
          "output_type": "execute_result",
          "data": {
            "text/plain": [
              "True"
            ]
          },
          "metadata": {},
          "execution_count": 59
        }
      ]
    },
    {
      "cell_type": "code",
      "source": [
        "my_dict = {\"Name\" : \"Prithivi Ram R\", \"age\" : 19, \"Year\" : 2}\n",
        "my_dict"
      ],
      "metadata": {
        "colab": {
          "base_uri": "https://localhost:8080/"
        },
        "id": "9OARYZtDh3z1",
        "outputId": "4a6bf59a-e81e-4b25-ec52-b02c247bb4ca"
      },
      "execution_count": null,
      "outputs": [
        {
          "output_type": "execute_result",
          "data": {
            "text/plain": [
              "{'Name': 'Prithivi Ram R', 'age': 19, 'Year': 2}"
            ]
          },
          "metadata": {},
          "execution_count": 60
        }
      ]
    },
    {
      "cell_type": "code",
      "source": [
        "my_list = ['a', 'e', 'i', 'o', 'u']\n",
        "my_list.index('o')"
      ],
      "metadata": {
        "id": "-kP125-CkMKo",
        "colab": {
          "base_uri": "https://localhost:8080/"
        },
        "outputId": "5b4b0a2f-c7ba-4cfd-d63d-26eb2f4e1109"
      },
      "execution_count": null,
      "outputs": [
        {
          "output_type": "execute_result",
          "data": {
            "text/plain": [
              "3"
            ]
          },
          "metadata": {},
          "execution_count": 62
        }
      ]
    },
    {
      "cell_type": "code",
      "source": [
        "my_list.append('g')\n",
        "my_list"
      ],
      "metadata": {
        "colab": {
          "base_uri": "https://localhost:8080/"
        },
        "id": "aOsTSFdjn5q1",
        "outputId": "bfc25590-f77c-49d7-b856-6e8a42a188e8"
      },
      "execution_count": null,
      "outputs": [
        {
          "output_type": "execute_result",
          "data": {
            "text/plain": [
              "['a', 'e', 'i', 'o', 'u', 'g']"
            ]
          },
          "metadata": {},
          "execution_count": 63
        }
      ]
    },
    {
      "cell_type": "code",
      "source": [
        "del(my_list[0:1])\n",
        "my_list"
      ],
      "metadata": {
        "colab": {
          "base_uri": "https://localhost:8080/"
        },
        "id": "pHJeDWebpBvP",
        "outputId": "a561a3ef-e3df-4bfb-d54d-40340f3782ca"
      },
      "execution_count": null,
      "outputs": [
        {
          "output_type": "execute_result",
          "data": {
            "text/plain": [
              "[]"
            ]
          },
          "metadata": {},
          "execution_count": 66
        }
      ]
    },
    {
      "cell_type": "code",
      "source": [
        "6Zmy_cars = [\"ford\", \"audi\", 'bmw']\n",
        "my_list.append(my_cars)\n",
        "my_list"
      ],
      "metadata": {
        "colab": {
          "base_uri": "https://localhost:8080/"
        },
        "id": "UX0bheegpBeG",
        "outputId": "118d117e-9af8-4992-86fe-7aa7861bf7e2"
      },
      "execution_count": null,
      "outputs": [
        {
          "output_type": "execute_result",
          "data": {
            "text/plain": [
              "[['ford', 'audi', 'bmw']]"
            ]
          },
          "metadata": {},
          "execution_count": 68
        }
      ]
    },
    {
      "cell_type": "markdown",
      "source": [
        "# List Processing in Python\n",
        "   1. Create an empty result list.\n",
        "   2. Keep a total variable starting @ 0\n",
        "   3. Loop through each no.\n",
        "   4. Add to total, append total to result."
      ],
      "metadata": {
        "id": "5jAtOM0muyBd"
      }
    },
    {
      "cell_type": "code",
      "source": [
        "#Running sum\n",
        "def runningsum"
      ],
      "metadata": {
        "colab": {
          "base_uri": "https://localhost:8080/"
        },
        "id": "0OACEDG5e1u1",
        "outputId": "e9769b5e-650a-461a-f1ac-bcc1a1a08edf"
      },
      "execution_count": null,
      "outputs": [
        {
          "output_type": "stream",
          "name": "stdout",
          "text": [
            "36\n"
          ]
        }
      ]
    },
    {
      "cell_type": "code",
      "source": [
        "def evencount(nums):\n",
        "  count = 0\n",
        "  for num in nums:\n",
        "    if num % 2 == 0:\n",
        "      count += 1\n",
        "  return(count)\n",
        "\n",
        "print (evencount([10,20,5,1]))"
      ],
      "metadata": {
        "colab": {
          "base_uri": "https://localhost:8080/"
        },
        "id": "rHRAkyzDiPTJ",
        "outputId": "a4ba2e79-22f0-416c-bb76-f6ed84233a2c"
      },
      "execution_count": null,
      "outputs": [
        {
          "output_type": "stream",
          "name": "stdout",
          "text": [
            "2\n"
          ]
        }
      ]
    },
    {
      "cell_type": "code",
      "source": [
        "def ReverseList(nums):\n",
        "  return nums[::-1]\n",
        "\n",
        "print (ReverseList([10,20,5,1]))"
      ],
      "metadata": {
        "colab": {
          "base_uri": "https://localhost:8080/"
        },
        "id": "RDXt7VeDkkxC",
        "outputId": "96391709-66ed-4ac2-9ce4-fa99225ab780"
      },
      "execution_count": null,
      "outputs": [
        {
          "output_type": "stream",
          "name": "stdout",
          "text": [
            "[1, 5, 20, 10]\n"
          ]
        }
      ]
    },
    {
      "cell_type": "code",
      "source": [
        "def mergelist(l1, l2):\n",
        "    return sorted(l1 + l2)\n",
        "\n",
        "l1 = [1, 2, 3]\n",
        "l2 = [4, 5, 6]\n",
        "\n",
        "print(mergelist(l1, l2))\n"
      ],
      "metadata": {
        "colab": {
          "base_uri": "https://localhost:8080/"
        },
        "id": "d8jmTcN7o2VX",
        "outputId": "bb69c0bf-a9b3-4fa2-bd13-12fa639b8591"
      },
      "execution_count": null,
      "outputs": [
        {
          "output_type": "stream",
          "name": "stdout",
          "text": [
            "[1, 2, 3, 4, 5, 6]\n"
          ]
        }
      ]
    },
    {
      "cell_type": "code",
      "source": [
        "def Sortedsquare(nums):\n",
        "  return sorted([num**2 for num in nums])\n",
        "\n",
        "print (Sortedsquare([-4,-1,0,3,10]))"
      ],
      "metadata": {
        "colab": {
          "base_uri": "https://localhost:8080/"
        },
        "id": "t2Ost-XuqZFu",
        "outputId": "3b0ffd29-3672-4bef-e0cd-cfd4a0912dea"
      },
      "execution_count": null,
      "outputs": [
        {
          "output_type": "stream",
          "name": "stdout",
          "text": [
            "[0, 1, 9, 16, 100]\n"
          ]
        }
      ]
    },
    {
      "cell_type": "code",
      "source": [
        "def MaxDeposit(accounts):\n",
        "    return max(sum(account) for account in accounts)\n",
        "\n",
        "print(MaxDeposit([[2, 8, 7], [7, 1, 3], [1, 9, 5]]))\n"
      ],
      "metadata": {
        "id": "4MG14oJnteZI",
        "colab": {
          "base_uri": "https://localhost:8080/"
        },
        "outputId": "38a7a3e1-5d39-4540-902f-fc089a818162"
      },
      "execution_count": null,
      "outputs": [
        {
          "output_type": "stream",
          "name": "stdout",
          "text": [
            "17\n"
          ]
        }
      ]
    },
    {
      "cell_type": "code",
      "source": [
        "#Find two indices whose numbers add up to the target\n",
        "def two_sum(nums, target):\n",
        "    seen = {}  # store number -> index\n",
        "    for i, num in enumerate(nums):\n",
        "        complement = target - num\n",
        "        if complement in seen:\n",
        "            return [seen[complement], i]\n",
        "        seen[num] = i\n",
        "    return None  # if no pair found\n",
        "\n",
        "\n",
        "nums = [2, 7, 11, 15]\n",
        "target = 9\n",
        "print(two_sum(nums, target))  # Output: [0, 1]\n"
      ],
      "metadata": {
        "colab": {
          "base_uri": "https://localhost:8080/"
        },
        "id": "unVRahZnwAq2",
        "outputId": "ddd7de53-8635-4eb5-b869-77b418731a72"
      },
      "execution_count": null,
      "outputs": [
        {
          "output_type": "stream",
          "name": "stdout",
          "text": [
            "[0, 1]\n"
          ]
        }
      ]
    },
    {
      "cell_type": "code",
      "source": [],
      "metadata": {
        "id": "0GhS_Z_MgGIW"
      },
      "execution_count": null,
      "outputs": []
    }
  ]
}